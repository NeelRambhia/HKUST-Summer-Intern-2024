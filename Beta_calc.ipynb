{
 "cells": [
  {
   "cell_type": "markdown",
   "id": "1b75a4cb-f7b6-4859-beb4-748e501b987e",
   "metadata": {},
   "source": [
    "This file is based on finding $\\beta$ from the data consisting of refractive index and wavelength for a waveguide strcuture."
   ]
  },
  {
   "cell_type": "code",
   "execution_count": 2,
   "id": "df6db723-cd57-43b4-b857-dfb62b278aee",
   "metadata": {},
   "outputs": [],
   "source": [
    "import numpy as np\n",
    "import pandas as pd"
   ]
  },
  {
   "cell_type": "markdown",
   "id": "04d55444-2c3b-4c7f-b41b-b8650af42ddf",
   "metadata": {},
   "source": [
    "Assuming the csv file contains 2 columns: wl and eta<br>\n",
    "wl = wavelength (in metres), eta = refractive index"
   ]
  },
  {
   "cell_type": "code",
   "execution_count": null,
   "id": "4b0148fe-5442-4643-936e-0509681ef894",
   "metadata": {},
   "outputs": [],
   "source": [
    "d1 = pd.read_csv('');\n",
    "d2 = pd.read_csv('');\n",
    "d3 = pd.read_csv('');"
   ]
  },
  {
   "cell_type": "code",
   "execution_count": null,
   "id": "661411e7-eb23-48d6-bd8b-c456baaea47c",
   "metadata": {},
   "outputs": [],
   "source": [
    "c = 3000000000\n",
    "\n",
    "def freq(wl):\n",
    "    return c/wl"
   ]
  },
  {
   "cell_type": "code",
   "execution_count": null,
   "id": "a1aea60c-be87-4091-9761-6f24eb811ce2",
   "metadata": {},
   "outputs": [],
   "source": [
    "d1['freq'] = freq(d1['wl'])\n",
    "d2['freq'] = freq(d1['wl'])\n",
    "d3['freq'] = freq(d1['wl'])"
   ]
  },
  {
   "cell_type": "code",
   "execution_count": null,
   "id": "3c2ffce7-baa2-444e-8e83-fceaf2faa079",
   "metadata": {
    "scrolled": true
   },
   "outputs": [],
   "source": [
    "sel = ['freq','eta']\n",
    "data1 = np.concatenate((d1[sel].values.astype(np.float64),d2[sel].values.astype(np.float64),d3[sel].values.astype(np.float64)), axis = 0)"
   ]
  },
  {
   "cell_type": "markdown",
   "id": "30de296a-0784-428e-9e7e-a5c0e8980b7e",
   "metadata": {},
   "source": [
    "I have given both Cauchy distribution and Polynomial Regression (of degree 4 (degree can be changed as well)).<br>\n",
    "Comment out the code which is not required."
   ]
  },
  {
   "cell_type": "code",
   "execution_count": null,
   "id": "a548e5ff-1149-4d46-b9f6-ae445942f37b",
   "metadata": {},
   "outputs": [],
   "source": [
    "##Cauchy\n",
    "import scipy.stats as stats\n",
    "params = stats.cauchy.fit(data1)\n",
    "x0, gamma = params\n",
    "\n",
    "def ri(fq):\n",
    "    return stats.cauchy.pdf(fq, loc=x0, scale=gamma)"
   ]
  },
  {
   "cell_type": "code",
   "execution_count": null,
   "id": "8a844b36-7b87-4487-8ce9-77572120e037",
   "metadata": {},
   "outputs": [],
   "source": [
    "##Polynomial Regression\n",
    "from sklearn.linear_model import LinearRegression\n",
    "from sklearn.preprocessing import PolynomialFeatures  \n",
    "poly_regs= PolynomialFeatures(degree= 4)  #can change the degree here\n",
    "x_poly= poly_regs.fit_transform(data1[:,0].reshape(-1,1))  \n",
    "lin_reg =LinearRegression()  \n",
    "lin_reg.fit(x_poly, data1[:,1])  \n",
    "\n",
    "def ri(fq):\n",
    "    return lin_reg.predict(poly_regs.fit_transform([[fq]]))"
   ]
  },
  {
   "cell_type": "code",
   "execution_count": null,
   "id": "3fffd842-8ef2-4e75-899f-e74de6cf1642",
   "metadata": {},
   "outputs": [],
   "source": [
    "a = d3['wl'].max()\n",
    "b = d3['wl'].min()\n",
    "\n",
    "c = np.arange(a,b+0.5e-09,0.5e-09)\n",
    "neu_i = freq(c)\n",
    "eta_i = ri(neu_i)\n",
    "neu_p = d1['freq']"
   ]
  },
  {
   "cell_type": "code",
   "execution_count": null,
   "id": "1fc273d8-db6a-42b5-9ea0-0637562ce1fb",
   "metadata": {},
   "outputs": [],
   "source": [
    "for p in range(len(neu_p)):\n",
    "    neu_s = neu_p[p] - neu_i\n",
    "    eta_s = ri(neu_s)\n",
    "    beta = neu_p[p]*ri(neu_p[p]) - neu_i*eta_i - neu_s*eta_s\n",
    "    df = pd.dataframe(neu_i, columns = ['neu_i'])\n",
    "    df['eta_i'] = pd.dataframe(eta_i)\n",
    "    df['neu_s'] = pd.dataframe(neu_s)\n",
    "    df['eta_s'] = pd.dataframe(eta_s)\n",
    "    df['beta'] = pd.dataframe(beta)\n",
    "    df.to_csv(str(neu_p[p]))"
   ]
  }
 ],
 "metadata": {
  "kernelspec": {
   "display_name": "Python 3 (ipykernel)",
   "language": "python",
   "name": "python3"
  },
  "language_info": {
   "codemirror_mode": {
    "name": "ipython",
    "version": 3
   },
   "file_extension": ".py",
   "mimetype": "text/x-python",
   "name": "python",
   "nbconvert_exporter": "python",
   "pygments_lexer": "ipython3",
   "version": "3.11.7"
  }
 },
 "nbformat": 4,
 "nbformat_minor": 5
}
